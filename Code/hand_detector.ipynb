{
 "cells": [
  {
   "cell_type": "code",
   "execution_count": 1,
   "id": "948f5ff5-a926-4d95-a83f-2891d70abf63",
   "metadata": {},
   "outputs": [],
   "source": [
    "import mediapipe as mp\n",
    "import cv2 as cv2\n",
    "import numpy as np\n",
    "import os\n",
    "import uuid"
   ]
  },
  {
   "cell_type": "code",
   "execution_count": 2,
   "id": "f265c277-61bd-4e16-8fb7-fceef2dfb31c",
   "metadata": {},
   "outputs": [],
   "source": [
    "mp_drawing = mp.solutions.drawing_utils\n",
    "mp_hands   = mp.solutions.hands\n",
    "mp_drawing_styles = mp.solutions.drawing_styles"
   ]
  },
  {
   "cell_type": "code",
   "execution_count": 18,
   "id": "19de56d4-24fb-46a6-8681-917bdac2129d",
   "metadata": {
    "tags": []
   },
   "outputs": [],
   "source": [
    "cap = cv2.VideoCapture(0)\n",
    "\n",
    "with mp_hands.Hands(min_detection_confidence=0.8,min_tracking_confidence=0.5) as hands:\n",
    "    while cap.isOpened():\n",
    "        ret,frame = cap.read()\n",
    "        frame = cv2.flip(frame,1)\n",
    "\n",
    "        #convert to rgb\n",
    "        image=cv2.cvtColor(frame, cv2.COLOR_BGR2RGB)\n",
    "        #set flags off\n",
    "        image.flags.writeable= False\n",
    "        #detect\n",
    "        results = hands.process(image)\n",
    "        #set flags on\n",
    "        image.flags.writeable= True\n",
    "        #convert to bgr\n",
    "        image=cv2.cvtColor(image, cv2.COLOR_RGB2BGR)\n",
    "                \n",
    "            \n",
    "        #rendering results\n",
    "        if results.multi_hand_landmarks:\n",
    "            for num,hand in enumerate(results.multi_hand_landmarks):\n",
    "                zeros=np.zeros(image.shape)\n",
    "                #mp_drawing.draw_landmarks(image,hand,mp_hands.HAND_CONNECTIONS,mp_drawing_styles.get_default_hand_connections_style())\n",
    "                mp_drawing.draw_landmarks(zeros,hand,mp_hands.HAND_CONNECTIONS,mp_drawing_styles.get_default_hand_landmarks_style(),mp_drawing_styles.get_default_hand_connections_style())\n",
    "                cv2.imshow('Hand Tracking',zeros)\n",
    "\n",
    "        if cv2.waitKey(10) & 0xFF == ord('q'):\n",
    "            break\n",
    "            \n",
    "    \n",
    "cap.release()\n",
    "cv2.destroyAllWindows()"
   ]
  }
 ],
 "metadata": {
  "kernelspec": {
   "display_name": "Python 3 (ipykernel)",
   "language": "python",
   "name": "python3"
  },
  "language_info": {
   "codemirror_mode": {
    "name": "ipython",
    "version": 3
   },
   "file_extension": ".py",
   "mimetype": "text/x-python",
   "name": "python",
   "nbconvert_exporter": "python",
   "pygments_lexer": "ipython3",
   "version": "3.8.13"
  }
 },
 "nbformat": 4,
 "nbformat_minor": 5
}
