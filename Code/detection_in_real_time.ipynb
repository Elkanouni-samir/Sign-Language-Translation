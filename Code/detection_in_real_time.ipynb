{
 "cells": [
  {
   "cell_type": "code",
   "execution_count": 1,
   "id": "77305dde-8763-46bf-abb1-4dbb3b15ca95",
   "metadata": {},
   "outputs": [],
   "source": [
    "# Create function to match label to letter\n",
    "def getLetter(result):\n",
    "    classLabels = { 0: 'A',\n",
    "                    1: 'B',\n",
    "                    2: 'C',\n",
    "                    3: 'D',\n",
    "                    4: 'E',\n",
    "                    5: 'F',\n",
    "                    6: 'G',\n",
    "                    7: 'H',\n",
    "                    8: 'I',\n",
    "                    9: 'K',\n",
    "                    10: 'L',\n",
    "                    11: 'M',\n",
    "                    12: 'N',\n",
    "                    13: 'O',\n",
    "                    14: 'P',\n",
    "                    15: 'Q',\n",
    "                    16: 'R',\n",
    "                    17: 'S',\n",
    "                    18: 'T',\n",
    "                    19: 'U',\n",
    "                    20: 'V',\n",
    "                    21: 'W',\n",
    "                    22: 'X',\n",
    "                    23: 'Y'}\n",
    "    try:\n",
    "        res = int(result)\n",
    "        return classLabels[res]\n",
    "    except:\n",
    "        return \"Error\""
   ]
  },
  {
   "cell_type": "code",
   "execution_count": 2,
   "id": "dd531370-070d-4e2b-a0e6-d92e3e534348",
   "metadata": {},
   "outputs": [],
   "source": [
    "from tensorflow.keras.models import load_model\n",
    "classifier= load_model('model.h5')"
   ]
  },
  {
   "cell_type": "code",
   "execution_count": 36,
   "id": "1b8b363d-f473-4428-865c-ba97022c4b05",
   "metadata": {},
   "outputs": [
    {
     "name": "stdout",
     "output_type": "stream",
     "text": [
      "CDDECDECCCCDC\n",
      "Your message is :  CDDECDECCCCDC\n"
     ]
    }
   ],
   "source": [
    "import cv2 as cv2\n",
    "import time\n",
    "import gtts\n",
    "import os\n",
    "import numpy as np\n",
    "\n",
    "time_delay = 3\n",
    "\n",
    "ref = time.time()\n",
    "cap = cv2.VideoCapture(0)\n",
    "msg = \"\"\n",
    "\n",
    "\n",
    "while True:\n",
    "\n",
    "    ret, frame = cap.read()\n",
    "    \n",
    "    ##############################\n",
    "    frame=cv2.flip(frame, 1)\n",
    "\n",
    "    #define region of interest\n",
    "    roi = frame[100:400, 320:620]\n",
    "    cv2.imshow('roi', roi)\n",
    "    roi = cv2.cvtColor(roi, cv2.COLOR_BGR2GRAY)\n",
    "    roi = cv2.resize(roi, (28, 28), interpolation = cv2.INTER_AREA)\n",
    "    \n",
    "    cv2.imshow('roi scaled and gray', roi)\n",
    "    copy = frame.copy()\n",
    "    cv2.rectangle(copy, (320, 100), (620, 400), (255,0,0), 5)\n",
    "    \n",
    "    roi = roi.reshape(1,28,28,1) \n",
    "    roi = roi/255\n",
    "    result = classifier.predict(roi, 1, verbose = 0)[0]\n",
    "    result=result.reshape([5,-1])\n",
    "    max = np.argmax(result, axis=0)\n",
    "    cv2.putText(copy, getLetter(max), (300 , 100), cv2.FONT_HERSHEY_COMPLEX, 2, (0, 255, 0), 2)\n",
    "    cv2.imshow('frame', copy)    \n",
    "    if time.time() >= ref + time_delay:\n",
    "        msg = msg + getLetter(max)\n",
    "        ref = time.time()\n",
    "        print(getLetter(max),end=\"\")\n",
    "    if cv2.waitKey(1) == 13: #13 is the Enter Key\n",
    "        break\n",
    "print()\n",
    "print(\"Your message is : \",msg)\n",
    "#speech =gtts.gTTS(text=msg,lang='en')\n",
    "#speech.save(\"audio.mp3\")\n",
    "#os.system(\"audio.mp3\")\n",
    "cap.release()\n",
    "cv2.destroyAllWindows() "
   ]
  },
  {
   "cell_type": "code",
   "execution_count": 29,
   "id": "351128bd-845e-4408-9560-34e8354e94e5",
   "metadata": {},
   "outputs": [],
   "source": [
    "cap.release()\n",
    "cv2.destroyAllWindows() "
   ]
  }
 ],
 "metadata": {
  "kernelspec": {
   "display_name": "Python 3 (ipykernel)",
   "language": "python",
   "name": "python3"
  },
  "language_info": {
   "codemirror_mode": {
    "name": "ipython",
    "version": 3
   },
   "file_extension": ".py",
   "mimetype": "text/x-python",
   "name": "python",
   "nbconvert_exporter": "python",
   "pygments_lexer": "ipython3",
   "version": "3.9.12"
  }
 },
 "nbformat": 4,
 "nbformat_minor": 5
}
